{
 "cells": [
  {
   "cell_type": "raw",
   "metadata": {},
   "source": [
    "---\n",
    "title: \"stopping_tolx\"\n",
    "date: 2018-08-29T08:45:00+02:00\n",
    "draft: false\n",
    "tags: [\"stopping_tolx\", \"stopping criteria\", \"termination criteria\", \"gradient descent\", \"numerical optimization\"]\n",
    "---"
   ]
  },
  {
   "cell_type": "markdown",
   "metadata": {},
   "source": [
    "### Check Changes in the Solution\n",
    "Terminate if all variables changes less than $TolX$ from one step to another\n",
    "\n",
    "$$\n",
    "| x_{k+1} - x_k |_i < TolX \\quad \\forall \\, i=\\{1,2,..,n\\}\n",
    "$$"
   ]
  },
  {
   "cell_type": "markdown",
   "metadata": {},
   "source": [
    "### C Implementation"
   ]
  },
  {
   "cell_type": "code",
   "execution_count": 1,
   "metadata": {
    "ExecuteTime": {
     "end_time": "2018-08-29T06:37:56.993813Z",
     "start_time": "2018-08-29T06:37:56.876406Z"
    }
   },
   "outputs": [
    {
     "name": "stdout",
     "output_type": "stream",
     "text": [
      "true -> stop\n",
      "false -> proceed\n"
     ]
    }
   ],
   "source": [
    "#include <stdio.h> //printf\n",
    "#include <stdbool.h> //bool\n",
    "#include <math.h>  //fabs\n",
    "\n",
    "\n",
    "bool stopping_tolx(double* x1, double* x0, int n, double tolx){\n",
    "    int i = 0;\n",
    "    bool res = true;\n",
    "    while(res && i<n){\n",
    "        if(fabs(x1[i] - x0[i]) >= tolx){\n",
    "            res = false;\n",
    "            break;\n",
    "        }\n",
    "        i++;\n",
    "    }\n",
    "    return res;\n",
    "}\n",
    "\n",
    "int main(){\n",
    "    double tolx = .01;\n",
    "    double x1[] = {.10, .05, .01};\n",
    "    double x0[] = {.10, .05, .01};\n",
    "    \n",
    "    bool res = stopping_tolx(x1, x0, 3, tolx);\n",
    "    printf(\"%s\\n\", res ? \"true -> stop\" : \"false -> proceed\");\n",
    "\n",
    "    x0[2] = .02;    \n",
    "    res = stopping_tolx(x1, x0, 3, tolx);\n",
    "    printf(\"%s\\n\", res ? \"true -> stop\" : \"false -> proceed\");\n",
    "}"
   ]
  }
 ],
 "metadata": {
  "kernelspec": {
   "display_name": "C",
   "language": "c",
   "name": "c"
  },
  "language_info": {
   "file_extension": ".c",
   "mimetype": "text/plain",
   "name": "c"
  },
  "toc": {
   "base_numbering": 1,
   "nav_menu": {},
   "number_sections": true,
   "sideBar": true,
   "skip_h1_title": false,
   "title_cell": "Table of Contents",
   "title_sidebar": "Contents",
   "toc_cell": false,
   "toc_position": {},
   "toc_section_display": true,
   "toc_window_display": false
  },
  "varInspector": {
   "cols": {
    "lenName": 16,
    "lenType": 16,
    "lenVar": 40
   },
   "kernels_config": {
    "python": {
     "delete_cmd_postfix": "",
     "delete_cmd_prefix": "del ",
     "library": "var_list.py",
     "varRefreshCmd": "print(var_dic_list())"
    },
    "r": {
     "delete_cmd_postfix": ") ",
     "delete_cmd_prefix": "rm(",
     "library": "var_list.r",
     "varRefreshCmd": "cat(var_dic_list()) "
    }
   },
   "types_to_exclude": [
    "module",
    "function",
    "builtin_function_or_method",
    "instance",
    "_Feature"
   ],
   "window_display": false
  }
 },
 "nbformat": 4,
 "nbformat_minor": 2
}
